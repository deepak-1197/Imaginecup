{
  "nbformat": 4,
  "nbformat_minor": 0,
  "metadata": {
    "colab": {
      "name": "Untitled13.ipynb",
      "provenance": [],
      "authorship_tag": "ABX9TyND6h3Jiip0lwwC/ptW+WWq",
      "include_colab_link": true
    },
    "kernelspec": {
      "name": "python3",
      "display_name": "Python 3"
    }
  },
  "cells": [
    {
      "cell_type": "markdown",
      "metadata": {
        "id": "view-in-github",
        "colab_type": "text"
      },
      "source": [
        "<a href=\"https://colab.research.google.com/github/deepak-1197/Imaginecup/blob/master/Untitled13.ipynb\" target=\"_parent\"><img src=\"https://colab.research.google.com/assets/colab-badge.svg\" alt=\"Open In Colab\"/></a>"
      ]
    },
    {
      "cell_type": "code",
      "metadata": {
        "id": "67dPBtF-1oPM",
        "colab_type": "code",
        "colab": {}
      },
      "source": [
        "import random\n",
        "string=[\"hello how are you\",\"I am Deepak\",\"buenos dias\",\"hola! amigos\"]\n",
        "target =string[random.choice(range(len(string)))]\n",
        "yscore=len(target)"
      ],
      "execution_count": 1,
      "outputs": []
    },
    {
      "cell_type": "code",
      "metadata": {
        "id": "kovBzRK25GWF",
        "colab_type": "code",
        "colab": {}
      },
      "source": [
        "class Phrase:\n",
        "  def __init__(self):\n",
        "    self.characters =[]\n",
        "    for i in range(len(target)):\n",
        "      character = chr(random.choice(range(32,127)))\n",
        "      self.characters.append(character)\n",
        "\n",
        "  def getContents(self):\n",
        "    return ''.join(self.characters)\n",
        "      \n",
        "  def getFitness(self):\n",
        "    self.fitness=0\n",
        "    for i in range(len(self.characters)):\n",
        "      if self.characters[i]==target[i]:\n",
        "        self.fitness+=1   \n",
        "\n",
        "  def crossover(self,partner):\n",
        "    child=Phrase()\n",
        "    for i in range(len(self.characters)):\n",
        "      if random.random() < 0.5:\n",
        "        child.characters[i]=self.characters[i]\n",
        "      else:\n",
        "        child.characters[i]=partner.characters[i]\n",
        "    return child\n",
        "\n",
        "  def mutate(self):\n",
        "    for i in range(len(self.characters)):\n",
        "      if random.random()<0.01:\n",
        "        self.characters[i]=chr(random.choice(range(32,127)))                     "
      ],
      "execution_count": 2,
      "outputs": []
    },
    {
      "cell_type": "code",
      "metadata": {
        "id": "dkzo4sxN-Igg",
        "colab_type": "code",
        "colab": {}
      },
      "source": [
        "from termcolor import colored\n",
        "def colorize(s):\n",
        "    for i in range(len(s)):\n",
        "        if s[i] == target[i]:\n",
        "            print(colored(s[i], \"green\"), end=\"\")\n",
        "        else:\n",
        "            print(colored(s[i], \"red\"), end=\"\")\n",
        "\n",
        "def summarize(gen, phr, fit):\n",
        "    print(f\"Generation #{gen:3}: \", end=\"\")\n",
        "    colorize(phr)\n",
        "    print(f\"  score: {fit:2}/{len(target)}\")\n",
        "   ##my code   \n",
        "  #  answer=input(\"guess the string:\")\n",
        "   # if answer==target:\n",
        "    #  print(\"you won\")\n",
        "    #else:\n",
        "      #print(\"wrong\") "
      ],
      "execution_count": 3,
      "outputs": []
    },
    {
      "cell_type": "code",
      "metadata": {
        "id": "sJGoeQCY6aSw",
        "colab_type": "code",
        "colab": {
          "base_uri": "https://localhost:8080/",
          "height": 286
        },
        "outputId": "422d0895-25db-48fc-b8df-107de0f787a0"
      },
      "source": [
        "popSize=500\n",
        "population=[]\n",
        "bestScore=0\n",
        "generation=1\n",
        "\n",
        "for i in range(popSize):\n",
        "  population.append(Phrase())\n",
        "\n",
        "while bestScore<len(target):\n",
        "  \n",
        "  for i in range(popSize):\n",
        "    population[i].getFitness()\n",
        "    \n",
        "    if population[i].fitness>bestScore:\n",
        "      bestScore=population[i].fitness\n",
        "      summarize(generation,population[i].getContents(),bestScore)\n",
        "  \n",
        "  matingPool=[]\n",
        "\n",
        "  parents=population[:]\n",
        "  population=[]\n",
        "\n",
        "  for i in range(popSize):\n",
        "    for j in range(parents[i].fitness):\n",
        "      matingPool.append(parents[i])\n",
        "\n",
        "  for i in range(popSize):\n",
        "    x=random.choice(range(len(matingPool)))\n",
        "    y=random.choice(range(len(matingPool)))\n",
        "\n",
        "    child=matingPool[x].crossover(matingPool[y])\n",
        "    child.mutate()\n",
        "\n",
        "    population.append(child) \n",
        "   \n",
        "  generation+=1  \n",
        "\n",
        "\n",
        "\n",
        " "
      ],
      "execution_count": 4,
      "outputs": [
        {
          "output_type": "stream",
          "text": [
            "Generation #  1: \u001b[32mh\u001b[0m\u001b[31ml\u001b[0m\u001b[31m0\u001b[0m\u001b[31m<\u001b[0m\u001b[31m'\u001b[0m\u001b[31mP\u001b[0m\u001b[31m*\u001b[0m\u001b[31my\u001b[0m\u001b[31mT\u001b[0m\u001b[31m=\u001b[0m\u001b[31mX\u001b[0m\u001b[31mi\u001b[0m\u001b[31mr\u001b[0m\u001b[31m1\u001b[0m\u001b[31m6\u001b[0m\u001b[31mC\u001b[0m\u001b[31mD\u001b[0m  score:  1/17\n",
            "Generation #  1: \u001b[31m[\u001b[0m\u001b[31mZ\u001b[0m\u001b[31mc\u001b[0m\u001b[31m]\u001b[0m\u001b[31m{\u001b[0m\u001b[31m=\u001b[0m\u001b[31m7\u001b[0m\u001b[31mH\u001b[0m\u001b[32mw\u001b[0m\u001b[31mX\u001b[0m\u001b[31mY\u001b[0m\u001b[31mC\u001b[0m\u001b[31m[\u001b[0m\u001b[31mm\u001b[0m\u001b[32my\u001b[0m\u001b[31m\\\u001b[0m\u001b[31mJ\u001b[0m  score:  2/17\n",
            "Generation #  2: \u001b[31mL\u001b[0m\u001b[31mk\u001b[0m\u001b[32ml\u001b[0m\u001b[31m9\u001b[0m\u001b[31mO\u001b[0m\u001b[31m3\u001b[0m\u001b[31mj\u001b[0m\u001b[31mv\u001b[0m\u001b[32mw\u001b[0m\u001b[31my\u001b[0m\u001b[31m2\u001b[0m\u001b[31mo\u001b[0m\u001b[31m$\u001b[0m\u001b[31m,\u001b[0m\u001b[31m6\u001b[0m\u001b[32mo\u001b[0m\u001b[31m4\u001b[0m  score:  3/17\n",
            "Generation #  3: \u001b[31m{\u001b[0m\u001b[31mk\u001b[0m\u001b[31mk\u001b[0m\u001b[32ml\u001b[0m\u001b[31me\u001b[0m\u001b[31mp\u001b[0m\u001b[31mG\u001b[0m\u001b[31mg\u001b[0m\u001b[32mw\u001b[0m\u001b[31m{\u001b[0m\u001b[31m2\u001b[0m\u001b[31m[\u001b[0m\u001b[31m=\u001b[0m\u001b[32m \u001b[0m\u001b[31mO\u001b[0m\u001b[32mo\u001b[0m\u001b[31m5\u001b[0m  score:  4/17\n",
            "Generation #  3: \u001b[32mh\u001b[0m\u001b[31m\"\u001b[0m\u001b[32ml\u001b[0m\u001b[32ml\u001b[0m\u001b[31mU\u001b[0m\u001b[32m \u001b[0m\u001b[31mj\u001b[0m\u001b[31m_\u001b[0m\u001b[32mw\u001b[0m\u001b[31mw\u001b[0m\u001b[31m2\u001b[0m\u001b[31mo\u001b[0m\u001b[31mI\u001b[0m\u001b[31m,\u001b[0m\u001b[31mY\u001b[0m\u001b[32mo\u001b[0m\u001b[31mb\u001b[0m  score:  6/17\n",
            "Generation #  5: \u001b[32mh\u001b[0m\u001b[31m#\u001b[0m\u001b[32ml\u001b[0m\u001b[32ml\u001b[0m\u001b[31m6\u001b[0m\u001b[32m \u001b[0m\u001b[32mh\u001b[0m\u001b[31m/\u001b[0m\u001b[31m{\u001b[0m\u001b[31m=\u001b[0m\u001b[31mj\u001b[0m\u001b[31m1\u001b[0m\u001b[31m&\u001b[0m\u001b[31mR\u001b[0m\u001b[32my\u001b[0m\u001b[32mo\u001b[0m\u001b[31mb\u001b[0m  score:  7/17\n",
            "Generation #  6: \u001b[31mk\u001b[0m\u001b[31mj\u001b[0m\u001b[31mL\u001b[0m\u001b[32ml\u001b[0m\u001b[31m{\u001b[0m\u001b[32m \u001b[0m\u001b[32mh\u001b[0m\u001b[32mo\u001b[0m\u001b[32mw\u001b[0m\u001b[31m=\u001b[0m\u001b[31mJ\u001b[0m\u001b[31m8\u001b[0m\u001b[32me\u001b[0m\u001b[31md\u001b[0m\u001b[32my\u001b[0m\u001b[32mo\u001b[0m\u001b[31mo\u001b[0m  score:  8/17\n",
            "Generation #  8: \u001b[32mh\u001b[0m\u001b[31m.\u001b[0m\u001b[32ml\u001b[0m\u001b[32ml\u001b[0m\u001b[31m~\u001b[0m\u001b[32m \u001b[0m\u001b[32mh\u001b[0m\u001b[31mB\u001b[0m\u001b[32mw\u001b[0m\u001b[32m \u001b[0m\u001b[31mh\u001b[0m\u001b[31m]\u001b[0m\u001b[32me\u001b[0m\u001b[31mP\u001b[0m\u001b[31m[\u001b[0m\u001b[32mo\u001b[0m\u001b[31m4\u001b[0m  score:  9/17\n",
            "Generation #  9: \u001b[32mh\u001b[0m\u001b[31m7\u001b[0m\u001b[32ml\u001b[0m\u001b[32ml\u001b[0m\u001b[31mU\u001b[0m\u001b[32m \u001b[0m\u001b[31my\u001b[0m\u001b[32mo\u001b[0m\u001b[31mm\u001b[0m\u001b[31mL\u001b[0m\u001b[32ma\u001b[0m\u001b[32mr\u001b[0m\u001b[31m$\u001b[0m\u001b[31mb\u001b[0m\u001b[32my\u001b[0m\u001b[32mo\u001b[0m\u001b[32mu\u001b[0m  score: 10/17\n",
            "Generation # 10: \u001b[32mh\u001b[0m\u001b[32me\u001b[0m\u001b[32ml\u001b[0m\u001b[32ml\u001b[0m\u001b[31m,\u001b[0m\u001b[31mA\u001b[0m\u001b[32mh\u001b[0m\u001b[32mo\u001b[0m\u001b[32mw\u001b[0m\u001b[31m=\u001b[0m\u001b[32ma\u001b[0m\u001b[32mr\u001b[0m\u001b[31m%\u001b[0m\u001b[31m[\u001b[0m\u001b[32my\u001b[0m\u001b[31mc\u001b[0m\u001b[32mu\u001b[0m  score: 11/17\n",
            "Generation # 13: \u001b[32mh\u001b[0m\u001b[32me\u001b[0m\u001b[32ml\u001b[0m\u001b[32ml\u001b[0m\u001b[31mj\u001b[0m\u001b[32m \u001b[0m\u001b[32mh\u001b[0m\u001b[32mo\u001b[0m\u001b[31mP\u001b[0m\u001b[32m \u001b[0m\u001b[31mB\u001b[0m\u001b[32mr\u001b[0m\u001b[31mx\u001b[0m\u001b[31ms\u001b[0m\u001b[32my\u001b[0m\u001b[32mo\u001b[0m\u001b[32mu\u001b[0m  score: 12/17\n",
            "Generation # 14: \u001b[32mh\u001b[0m\u001b[32me\u001b[0m\u001b[32ml\u001b[0m\u001b[32ml\u001b[0m\u001b[31mx\u001b[0m\u001b[32m \u001b[0m\u001b[32mh\u001b[0m\u001b[32mo\u001b[0m\u001b[32mw\u001b[0m\u001b[31mx\u001b[0m\u001b[32ma\u001b[0m\u001b[32mr\u001b[0m\u001b[31m`\u001b[0m\u001b[32m \u001b[0m\u001b[32my\u001b[0m\u001b[31mM\u001b[0m\u001b[32mu\u001b[0m  score: 13/17\n",
            "Generation # 20: \u001b[32mh\u001b[0m\u001b[32me\u001b[0m\u001b[32ml\u001b[0m\u001b[32ml\u001b[0m\u001b[31m(\u001b[0m\u001b[32m \u001b[0m\u001b[31mL\u001b[0m\u001b[32mo\u001b[0m\u001b[32mw\u001b[0m\u001b[32m \u001b[0m\u001b[32ma\u001b[0m\u001b[32mr\u001b[0m\u001b[32me\u001b[0m\u001b[31mM\u001b[0m\u001b[32my\u001b[0m\u001b[32mo\u001b[0m\u001b[32mu\u001b[0m  score: 14/17\n",
            "Generation # 23: \u001b[32mh\u001b[0m\u001b[32me\u001b[0m\u001b[32ml\u001b[0m\u001b[32ml\u001b[0m\u001b[32mo\u001b[0m\u001b[32m \u001b[0m\u001b[32mh\u001b[0m\u001b[31m&\u001b[0m\u001b[32mw\u001b[0m\u001b[32m \u001b[0m\u001b[32ma\u001b[0m\u001b[32mr\u001b[0m\u001b[31mo\u001b[0m\u001b[32m \u001b[0m\u001b[32my\u001b[0m\u001b[32mo\u001b[0m\u001b[32mu\u001b[0m  score: 15/17\n",
            "Generation # 28: \u001b[32mh\u001b[0m\u001b[31m6\u001b[0m\u001b[32ml\u001b[0m\u001b[32ml\u001b[0m\u001b[32mo\u001b[0m\u001b[32m \u001b[0m\u001b[32mh\u001b[0m\u001b[32mo\u001b[0m\u001b[32mw\u001b[0m\u001b[32m \u001b[0m\u001b[32ma\u001b[0m\u001b[32mr\u001b[0m\u001b[32me\u001b[0m\u001b[32m \u001b[0m\u001b[32my\u001b[0m\u001b[32mo\u001b[0m\u001b[32mu\u001b[0m  score: 16/17\n",
            "Generation # 32: \u001b[32mh\u001b[0m\u001b[32me\u001b[0m\u001b[32ml\u001b[0m\u001b[32ml\u001b[0m\u001b[32mo\u001b[0m\u001b[32m \u001b[0m\u001b[32mh\u001b[0m\u001b[32mo\u001b[0m\u001b[32mw\u001b[0m\u001b[32m \u001b[0m\u001b[32ma\u001b[0m\u001b[32mr\u001b[0m\u001b[32me\u001b[0m\u001b[32m \u001b[0m\u001b[32my\u001b[0m\u001b[32mo\u001b[0m\u001b[32mu\u001b[0m  score: 17/17\n"
          ],
          "name": "stdout"
        }
      ]
    }
  ]
}
