{
  "nbformat": 4,
  "nbformat_minor": 0,
  "metadata": {
    "colab": {
      "name": "Copy of gen_algo",
      "provenance": [],
      "collapsed_sections": [],
      "include_colab_link": true
    },
    "kernelspec": {
      "name": "python3",
      "display_name": "Python 3"
    }
  },
  "cells": [
    {
      "cell_type": "markdown",
      "metadata": {
        "id": "view-in-github",
        "colab_type": "text"
      },
      "source": [
        "<a href=\"https://colab.research.google.com/github/deepak-1197/Imaginecup/blob/master/Copy_of_gen_algo.ipynb\" target=\"_parent\"><img src=\"https://colab.research.google.com/assets/colab-badge.svg\" alt=\"Open In Colab\"/></a>"
      ]
    },
    {
      "cell_type": "code",
      "metadata": {
        "id": "cXTYYruhLDaU",
        "colab_type": "code",
        "colab": {}
      },
      "source": [
        "import random\n",
        "import numpy"
      ],
      "execution_count": 2,
      "outputs": []
    },
    {
      "cell_type": "code",
      "metadata": {
        "id": "NcK9QmivQeN7",
        "colab_type": "code",
        "colab": {}
      },
      "source": [
        "class Organism:\n",
        "    num_p = 0\n",
        "    def __init__(self, n):\n",
        "        Organism.num_p += 1\n",
        "        self.id = Organism.num_p\n",
        "        self.visit_order = get_visit_order(n)"
      ],
      "execution_count": 3,
      "outputs": []
    },
    {
      "cell_type": "code",
      "metadata": {
        "id": "0ePqbVnWRExQ",
        "colab_type": "code",
        "colab": {}
      },
      "source": [
        "def get_visit_order(n):\n",
        "    return random.sample([i for i in range(n)], n)\n",
        "\n",
        "def get_iteration_snap(visit_order_whole,  num_nodes):\n",
        "    iteration_snap = []\n",
        "    for i in range(num_nodes):\n",
        "        count_v = [0] * num_nodes\n",
        "        for j in range(len(visit_order_whole)):\n",
        "            node_visited = visit_order_whole[j].visit_order[i]\n",
        "            count_v[node_visited] += 1\n",
        "        iteration_snap.append(count_v)\n",
        "    return iteration_snap\n",
        "\n",
        "def fitness(iteration_snap, capacity, ind):\n",
        "    fitness_ar = 0\n",
        "    for i in range(len(iteration_snap)):\n",
        "        for j, num in enumerate(iteration_snap[i]):\n",
        "            multiplier = 1 if (capacity[j] - num) >=0 else -100\n",
        "            fitness_ar += multiplier * (capacity[j] - num)**2\n",
        "    return (fitness_ar, ind)\n",
        "\n",
        "def print_population(population):\n",
        "    for i in range(len(population)):\n",
        "        print(population[i].visit_order)\n",
        "\n",
        "def crossover(pop1, pop2):\n",
        "    new_pop = []\n",
        "    for i in range(len(pop1)):\n",
        "        choice = random.randint(0, 1)\n",
        "        if choice == 0: new_pop.append(pop1[i])\n",
        "        else: new_pop.append(pop2[i])\n",
        "    return new_pop"
      ],
      "execution_count": 4,
      "outputs": []
    },
    {
      "cell_type": "code",
      "metadata": {
        "id": "2kMNUrwfSsSk",
        "colab_type": "code",
        "colab": {}
      },
      "source": [
        "init_pop = 5000\n",
        "num_people = 10\n",
        "num_nodes = 5\n",
        "capacity = [2,2,2,2,2]"
      ],
      "execution_count": 5,
      "outputs": []
    },
    {
      "cell_type": "code",
      "metadata": {
        "id": "4XazadMHtz7f",
        "colab_type": "code",
        "colab": {
          "base_uri": "https://localhost:8080/",
          "height": 1000
        },
        "outputId": "a2255f8e-c3df-43ab-e87a-44fdb46a7f4c"
      },
      "source": [
        "population = [[Organism(num_nodes) for i in range(num_people)] for i in range(init_pop)]\n",
        "num_iter = 40\n",
        "top_k = 40\n",
        "for i in range(num_iter):\n",
        "    iteration_snaps = [get_iteration_snap(population[i], num_nodes) for i in range(len(population))]\n",
        "    fitness_pop = [fitness(iteration_snaps[i], capacity, i) for i in range(len(iteration_snaps))]\n",
        "    best_pop = sorted(fitness_pop, reverse=True)[:top_k]\n",
        "    print(fitness(iteration_snaps[0], capacity, 0)[0])\n",
        "    print(iteration_snaps[fitness(iteration_snaps[0], capacity, 0)[1]])\n",
        "    new_pop = []\n",
        "    for i in range(1, len(best_pop)):\n",
        "        for j in range(i):\n",
        "            par1 = population[best_pop[i][1]]\n",
        "            par2 = population[best_pop[j][1]]\n",
        "            new_pop.append(crossover(par1, par2))\n",
        "            if len(new_pop) == init_pop:\n",
        "                break\n",
        "        if len(new_pop) == init_pop:\n",
        "            break\n",
        "    population = new_pop"
      ],
      "execution_count": 6,
      "outputs": [
        {
          "output_type": "stream",
          "text": [
            "-2881\n",
            "[[1, 3, 1, 3, 2], [5, 1, 2, 2, 0], [2, 0, 2, 2, 4], [1, 4, 0, 2, 3], [1, 2, 5, 1, 1]]\n",
            "-1285\n",
            "[[3, 3, 2, 2, 0], [2, 2, 2, 0, 4], [2, 3, 2, 2, 1], [1, 0, 2, 3, 4], [2, 2, 2, 3, 1]]\n",
            "-1388\n",
            "[[4, 2, 0, 3, 1], [1, 2, 2, 1, 4], [1, 2, 3, 3, 1], [2, 1, 3, 1, 3], [2, 3, 2, 2, 1]]\n",
            "-1386\n",
            "[[3, 1, 3, 1, 2], [3, 2, 3, 1, 1], [0, 2, 2, 4, 2], [1, 4, 0, 2, 3], [3, 1, 2, 2, 2]]\n",
            "-1285\n",
            "[[2, 3, 3, 0, 2], [1, 1, 2, 3, 3], [3, 1, 2, 3, 1], [1, 1, 3, 3, 2], [3, 4, 0, 1, 2]]\n",
            "-693\n",
            "[[2, 1, 2, 3, 2], [2, 2, 1, 2, 3], [2, 2, 3, 2, 1], [1, 2, 3, 1, 3], [3, 3, 1, 2, 1]]\n",
            "-693\n",
            "[[2, 1, 3, 1, 3], [3, 2, 2, 1, 2], [1, 2, 3, 3, 1], [2, 3, 1, 2, 2], [2, 2, 1, 3, 2]]\n",
            "-495\n",
            "[[2, 2, 2, 2, 2], [1, 2, 1, 3, 3], [2, 3, 2, 2, 1], [2, 1, 3, 2, 2], [3, 2, 2, 1, 2]]\n",
            "-396\n",
            "[[2, 1, 2, 3, 2], [2, 2, 2, 2, 2], [2, 2, 1, 2, 3], [2, 3, 2, 1, 2], [2, 2, 3, 2, 1]]\n",
            "-198\n",
            "[[2, 2, 2, 2, 2], [2, 2, 2, 2, 2], [2, 2, 2, 3, 1], [2, 2, 2, 1, 3], [2, 2, 2, 2, 2]]\n",
            "-198\n",
            "[[1, 2, 3, 2, 2], [3, 2, 1, 2, 2], [2, 2, 2, 2, 2], [2, 2, 2, 2, 2], [2, 2, 2, 2, 2]]\n",
            "-198\n",
            "[[1, 2, 3, 2, 2], [3, 2, 1, 2, 2], [2, 2, 2, 2, 2], [2, 2, 2, 2, 2], [2, 2, 2, 2, 2]]\n",
            "-198\n",
            "[[1, 2, 3, 2, 2], [3, 2, 1, 2, 2], [2, 2, 2, 2, 2], [2, 2, 2, 2, 2], [2, 2, 2, 2, 2]]\n",
            "-198\n",
            "[[1, 2, 3, 2, 2], [3, 2, 1, 2, 2], [2, 2, 2, 2, 2], [2, 2, 2, 2, 2], [2, 2, 2, 2, 2]]\n",
            "-198\n",
            "[[1, 2, 3, 2, 2], [3, 2, 1, 2, 2], [2, 2, 2, 2, 2], [2, 2, 2, 2, 2], [2, 2, 2, 2, 2]]\n",
            "-198\n",
            "[[1, 2, 3, 2, 2], [3, 2, 1, 2, 2], [2, 2, 2, 2, 2], [2, 2, 2, 2, 2], [2, 2, 2, 2, 2]]\n",
            "-198\n",
            "[[1, 2, 3, 2, 2], [3, 2, 1, 2, 2], [2, 2, 2, 2, 2], [2, 2, 2, 2, 2], [2, 2, 2, 2, 2]]\n",
            "-198\n",
            "[[1, 2, 3, 2, 2], [3, 2, 1, 2, 2], [2, 2, 2, 2, 2], [2, 2, 2, 2, 2], [2, 2, 2, 2, 2]]\n",
            "-198\n",
            "[[1, 2, 3, 2, 2], [3, 2, 1, 2, 2], [2, 2, 2, 2, 2], [2, 2, 2, 2, 2], [2, 2, 2, 2, 2]]\n",
            "-198\n",
            "[[1, 2, 3, 2, 2], [3, 2, 1, 2, 2], [2, 2, 2, 2, 2], [2, 2, 2, 2, 2], [2, 2, 2, 2, 2]]\n",
            "-198\n",
            "[[1, 2, 3, 2, 2], [3, 2, 1, 2, 2], [2, 2, 2, 2, 2], [2, 2, 2, 2, 2], [2, 2, 2, 2, 2]]\n",
            "-198\n",
            "[[1, 2, 3, 2, 2], [3, 2, 1, 2, 2], [2, 2, 2, 2, 2], [2, 2, 2, 2, 2], [2, 2, 2, 2, 2]]\n",
            "-198\n",
            "[[1, 2, 3, 2, 2], [3, 2, 1, 2, 2], [2, 2, 2, 2, 2], [2, 2, 2, 2, 2], [2, 2, 2, 2, 2]]\n",
            "-198\n",
            "[[1, 2, 3, 2, 2], [3, 2, 1, 2, 2], [2, 2, 2, 2, 2], [2, 2, 2, 2, 2], [2, 2, 2, 2, 2]]\n",
            "-198\n",
            "[[1, 2, 3, 2, 2], [3, 2, 1, 2, 2], [2, 2, 2, 2, 2], [2, 2, 2, 2, 2], [2, 2, 2, 2, 2]]\n",
            "-198\n",
            "[[1, 2, 3, 2, 2], [3, 2, 1, 2, 2], [2, 2, 2, 2, 2], [2, 2, 2, 2, 2], [2, 2, 2, 2, 2]]\n",
            "-198\n",
            "[[1, 2, 3, 2, 2], [3, 2, 1, 2, 2], [2, 2, 2, 2, 2], [2, 2, 2, 2, 2], [2, 2, 2, 2, 2]]\n",
            "-198\n",
            "[[1, 2, 3, 2, 2], [3, 2, 1, 2, 2], [2, 2, 2, 2, 2], [2, 2, 2, 2, 2], [2, 2, 2, 2, 2]]\n",
            "-198\n",
            "[[1, 2, 3, 2, 2], [3, 2, 1, 2, 2], [2, 2, 2, 2, 2], [2, 2, 2, 2, 2], [2, 2, 2, 2, 2]]\n",
            "-198\n",
            "[[1, 2, 3, 2, 2], [3, 2, 1, 2, 2], [2, 2, 2, 2, 2], [2, 2, 2, 2, 2], [2, 2, 2, 2, 2]]\n",
            "-198\n",
            "[[1, 2, 3, 2, 2], [3, 2, 1, 2, 2], [2, 2, 2, 2, 2], [2, 2, 2, 2, 2], [2, 2, 2, 2, 2]]\n",
            "-198\n",
            "[[1, 2, 3, 2, 2], [3, 2, 1, 2, 2], [2, 2, 2, 2, 2], [2, 2, 2, 2, 2], [2, 2, 2, 2, 2]]\n",
            "-198\n",
            "[[1, 2, 3, 2, 2], [3, 2, 1, 2, 2], [2, 2, 2, 2, 2], [2, 2, 2, 2, 2], [2, 2, 2, 2, 2]]\n",
            "-198\n",
            "[[1, 2, 3, 2, 2], [3, 2, 1, 2, 2], [2, 2, 2, 2, 2], [2, 2, 2, 2, 2], [2, 2, 2, 2, 2]]\n",
            "-198\n",
            "[[1, 2, 3, 2, 2], [3, 2, 1, 2, 2], [2, 2, 2, 2, 2], [2, 2, 2, 2, 2], [2, 2, 2, 2, 2]]\n",
            "-198\n",
            "[[1, 2, 3, 2, 2], [3, 2, 1, 2, 2], [2, 2, 2, 2, 2], [2, 2, 2, 2, 2], [2, 2, 2, 2, 2]]\n",
            "-198\n",
            "[[1, 2, 3, 2, 2], [3, 2, 1, 2, 2], [2, 2, 2, 2, 2], [2, 2, 2, 2, 2], [2, 2, 2, 2, 2]]\n",
            "-198\n",
            "[[1, 2, 3, 2, 2], [3, 2, 1, 2, 2], [2, 2, 2, 2, 2], [2, 2, 2, 2, 2], [2, 2, 2, 2, 2]]\n",
            "-198\n",
            "[[1, 2, 3, 2, 2], [3, 2, 1, 2, 2], [2, 2, 2, 2, 2], [2, 2, 2, 2, 2], [2, 2, 2, 2, 2]]\n",
            "-198\n",
            "[[1, 2, 3, 2, 2], [3, 2, 1, 2, 2], [2, 2, 2, 2, 2], [2, 2, 2, 2, 2], [2, 2, 2, 2, 2]]\n"
          ],
          "name": "stdout"
        }
      ]
    },
    {
      "cell_type": "code",
      "metadata": {
        "id": "gKJf_8hwx9pa",
        "colab_type": "code",
        "colab": {
          "base_uri": "https://localhost:8080/",
          "height": 50
        },
        "outputId": "0903bb1a-f156-4057-b7dc-bcb0e76e4144"
      },
      "source": [
        "eg=[[4,2,3,1,0],[2,2,2,2,2],[2,3,1,2,2],[2,2,2,2,2],[0,1,2,3,4]]\n",
        "eg2=[[0,1,4,3,2],[0,1,3,2,4],[0,2,1,4,3],[0,2,1,4,3],[1,0,3,2,4],[1,0,4,3,2],[2,3,0,1,4],[2,3,0,1,4],[2,4,1,0,3],[3,4,2,0,1]]          # it will have 10 list just an example so take 4 thoda galat hai\n",
        "def mutate(eg,eg2):\n",
        "  cpty=[2,2,2,2,2]\n",
        "  fit=[0,0,0,0,0]\n",
        "  for i in range(0,len(eg)):\n",
        "    for j in range(0,len(cpty)):\n",
        "      if eg[i][j]>cpty[j]:\n",
        "        fit[i]=fit[i]-1\n",
        "      else:\n",
        "        fit[i]=fit[i]+1\n",
        "  a=[]\n",
        "  l=fit.index(min(fit))     #it will store the iteration at which bad result is occur\n",
        "  a.extend(eg[l])   \n",
        "  k=a.index(max(a))         # it will store the node at which bad result occur  \n",
        "  c=[]\n",
        "  for i in range(len(eg2)):\n",
        "    if eg2[i][l]==k:\n",
        "      c.append(eg2[i])\n",
        "  edit=[]\n",
        "  edit.extend(c[random.choice(range(0,len(c)))])\n",
        "  print(edit)\n",
        "  edit2=[]\n",
        "  edit2.extend(random.sample(edit,len(edit)))   \n",
        "  eg2.remove(edit)\n",
        "  eg2.append(edit2)    \n",
        "  return eg2 \n",
        "     \n",
        "\n",
        "\n",
        "newb=[]\n",
        "neweg=[]\n",
        "newb.extend(mutate(eg,eg2))\n",
        "for i in range(len(count)):\n",
        "  count=[0,0,0,0,0]\n",
        "  for j in range(len(newb)):\n",
        "    if newb[j][i]==0:\n",
        "      count[0]+=1\n",
        "    elif newb[j][i]==1:\n",
        "      count[1]+=1\n",
        "    elif newb[j][i]==2:\n",
        "      count[2]+=1\n",
        "    elif newb[j][i]==3:\n",
        "      count[3]+=1\n",
        "    else:\n",
        "      count[4]+=1 \n",
        "  neweg.append(count)\n",
        "print(neweg)  \n",
        "\n",
        "\n",
        "\n"
      ],
      "execution_count": 36,
      "outputs": [
        {
          "output_type": "stream",
          "text": [
            "[0, 2, 1, 4, 3]\n",
            "[[3, 2, 3, 1, 1], [2, 3, 1, 2, 2], [3, 2, 1, 2, 2], [2, 2, 2, 3, 1], [0, 1, 3, 2, 4]]\n"
          ],
          "name": "stdout"
        }
      ]
    }
  ]
}