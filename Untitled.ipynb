{
  "nbformat": 4,
  "nbformat_minor": 0,
  "metadata": {
    "colab": {
      "name": "Untitled",
      "provenance": [],
      "collapsed_sections": [],
      "include_colab_link": true
    },
    "kernelspec": {
      "name": "python3",
      "display_name": "Python 3"
    }
  },
  "cells": [
    {
      "cell_type": "markdown",
      "metadata": {
        "id": "view-in-github",
        "colab_type": "text"
      },
      "source": [
        "<a href=\"https://colab.research.google.com/github/deepak-1197/Imaginecup/blob/master/Untitled.ipynb\" target=\"_parent\"><img src=\"https://colab.research.google.com/assets/colab-badge.svg\" alt=\"Open In Colab\"/></a>"
      ]
    },
    {
      "cell_type": "code",
      "metadata": {
        "id": "Kk6e2qeNAcXz",
        "colab_type": "code",
        "colab": {}
      },
      "source": [
        "import random\n",
        "\n",
        "def get_solution():  \n",
        "  visit=[]                         # gereate random solution \n",
        "  nodes=[1,2,3,4,5]\n",
        "  for i in range(10):\n",
        "    visit.append(random.sample(nodes,len(nodes)))\n",
        "  #print(\"sequence of visit\")\n",
        "  #print(visit)\n",
        "  return visit\n",
        "\n",
        "def fitness():\n",
        "  itteration=[]\n",
        "  for i in range(len(nodes)):               # check the number of visit at each node in each itteration\n",
        "    count=[0,0,0,0,0]\n",
        "    for j in range(len(visit)):\n",
        "      if visit[j][i]==1:\n",
        "        count[0]+=1\n",
        "      elif visit[j][i]==2:\n",
        "        count[1]+=1\n",
        "      elif visit[j][i]==3:\n",
        "        count[2]+=1\n",
        "      elif visit[j][i]==4:\n",
        "        count[3]+=1\n",
        "      else:\n",
        "        count[4]+=1\n",
        "    itteration.append(count)\n",
        "  print(\"total visit at each node at different intervals\")  \n",
        "  print(itteration)"
      ],
      "execution_count": null,
      "outputs": []
    },
    {
      "cell_type": "code",
      "metadata": {
        "id": "IhW57iivFt0x",
        "colab_type": "code",
        "colab": {
          "base_uri": "https://localhost:8080/",
          "height": 35
        },
        "outputId": "8d776233-255b-41c7-d10e-9e67d32bb05d"
      },
      "source": [
        "popSize=500\n",
        "population=[]\n",
        "for i in range(popSize):\n",
        "  population.append(get_solution())\n",
        "\n",
        "print(len(population))"
      ],
      "execution_count": null,
      "outputs": [
        {
          "output_type": "stream",
          "text": [
            "500\n"
          ],
          "name": "stdout"
        }
      ]
    },
    {
      "cell_type": "code",
      "metadata": {
        "id": "cXTYYruhLDaU",
        "colab_type": "code",
        "colab": {}
      },
      "source": [
        ""
      ],
      "execution_count": null,
      "outputs": []
    }
  ]
}